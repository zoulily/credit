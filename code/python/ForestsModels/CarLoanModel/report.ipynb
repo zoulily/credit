{
 "cells": [
  {
   "cell_type": "markdown",
   "metadata": {},
   "source": [
    "# 车贷模型决策树与SVM等各类算法对比报告"
   ]
  },
  {
   "cell_type": "code",
   "execution_count": 83,
   "metadata": {
    "collapsed": false
   },
   "outputs": [],
   "source": [
    "import numpy as np\n",
    "\n",
    "from pymongo import MongoClient\n",
    "from sklearn import preprocessing\n",
    "from sklearn.ensemble import RandomForestRegressor\n",
    "from sklearn.ensemble import ExtraTreesRegressor\n",
    "from sklearn.tree import DecisionTreeRegressor\n",
    "from sklearn import cross_validation\n",
    "from sklearn.svm import SVR\n",
    "\n",
    "with open('Data/data.csv') as f:\n",
    "    line = f.readline()\n",
    "    header = line.split(',')\n",
    "data = np.genfromtxt('Data/data.csv', delimiter=',', skip_header=1, dtype=np.int)\n",
    "targetData = np.genfromtxt('Data/TargetData.csv', delimiter=',', skip_header=1, dtype=np.int)"
   ]
  },
  {
   "cell_type": "markdown",
   "metadata": {},
   "source": [
    "这里的数据是从mongo导入的，这处省去了所有的预处理流程，直接取出做算法选择的最终数据版本"
   ]
  },
  {
   "cell_type": "code",
   "execution_count": 84,
   "metadata": {
    "collapsed": false,
    "scrolled": true
   },
   "outputs": [
    {
     "name": "stdout",
     "output_type": "stream",
     "text": [
      "['carRegisterCertHosting', 'carTicketHosting', 'isDriversLicense', 'isGps', 'loanPurpose', 'marryCodition', 'carSpareKeyHosting', 'returnWay', 'gender', 'totalLoanAmount', 'totalLoanNum', 'rate', 'financeAmount', 'houseNum', 'due', 'totalReturnNum', 'toBeReturnAmoun', 'occupationYear', 'carBuyDate', 'age', 'carEstimatePrice', 'personalIncome\\n']\n",
      "[[ 0  0  0  0 -9  1  0  3  0  0 -1  3  0  0  0 -1  0  0 -1  0  0  0]\n",
      " [ 0  1  1  1  0  1  1  0  0  0  2  1  0 -2  1  2  0  0  0  0  0  0]\n",
      " [ 0  1  0  1  0  1  1  0  0  0 -1  1  0  0  0 -1  0  0  0  0  0  0]\n",
      " [ 0  0  0  0  0  1  0  0  0  0 -1  1  0 -2  0 -1  0  0 -1  0  0  0]\n",
      " [ 0  0  0  0  0  1  0  0  0  0 -1  1  0  0  0 -1  0  0 -1  0  0  0]]\n"
     ]
    }
   ],
   "source": [
    "print(header)\n",
    "print(data[:5])"
   ]
  },
  {
   "cell_type": "markdown",
   "metadata": {},
   "source": [
    "## regression tree by cart"
   ]
  },
  {
   "cell_type": "code",
   "execution_count": 85,
   "metadata": {
    "collapsed": true
   },
   "outputs": [],
   "source": [
    "tree = DecisionTreeRegressor()"
   ]
  },
  {
   "cell_type": "markdown",
   "metadata": {},
   "source": [
    "使用scikit中自带的交叉验证包进行交叉验证，默认使用R2值来评价算法。The coefficient R^2 is defined as (1 - u/v), where u is the regression sum of squares ((y_true - y_pred) \\*\\* 2).sum() and v is the residual sum of squares ((y_true - y_true.mean()) \\*\\* 2).sum(). Best possible score is 1.0, lower values are worse."
   ]
  },
  {
   "cell_type": "code",
   "execution_count": 86,
   "metadata": {
    "collapsed": false
   },
   "outputs": [
    {
     "data": {
      "text/plain": [
       "array([ 0.10911144,  0.36370299,  0.52843294, -0.23443236])"
      ]
     },
     "execution_count": 86,
     "metadata": {},
     "output_type": "execute_result"
    }
   ],
   "source": [
    "scores = cross_validation.cross_val_score(tree,data,targetData,cv=4);\n",
    "scores"
   ]
  },
  {
   "cell_type": "code",
   "execution_count": 87,
   "metadata": {
    "collapsed": false
   },
   "outputs": [
    {
     "data": {
      "text/plain": [
       "'R**2 accuracy:0.19 (+/- 0.29)'"
      ]
     },
     "execution_count": 87,
     "metadata": {},
     "output_type": "execute_result"
    }
   ],
   "source": [
    "\"R**2 accuracy:%0.2f (+/- %0.2f)\" %(scores.mean(),scores.std())"
   ]
  },
  {
   "cell_type": "markdown",
   "metadata": {},
   "source": [
    "前面我们做了R方值的计算，下面我们利用sickit的接口重载score函数，实现方差总和的计算和评估。下面的几个算法类似，不再一一赘述"
   ]
  },
  {
   "cell_type": "code",
   "execution_count": 88,
   "metadata": {
    "collapsed": true
   },
   "outputs": [],
   "source": [
    "def VarScore(estimator,x,y):\n",
    "    sy = estimator.predict(x)\n",
    "    return np.sum((sy-y)**2)"
   ]
  },
  {
   "cell_type": "code",
   "execution_count": 89,
   "metadata": {
    "collapsed": false
   },
   "outputs": [
    {
     "data": {
      "text/plain": [
       "array([ 243393.94937135,   58211.02218424,   22614.31289472,\n",
       "         62435.93252859])"
      ]
     },
     "execution_count": 89,
     "metadata": {},
     "output_type": "execute_result"
    }
   ],
   "source": [
    "scores = cross_validation.cross_val_score(tree,data,targetData,scoring=VarScore,cv=4);\n",
    "scores"
   ]
  },
  {
   "cell_type": "code",
   "execution_count": 90,
   "metadata": {
    "collapsed": false
   },
   "outputs": [
    {
     "data": {
      "text/plain": [
       "'Variance accuracy:96663.80 (+/- 86115.08)'"
      ]
     },
     "execution_count": 90,
     "metadata": {},
     "output_type": "execute_result"
    }
   ],
   "source": [
    "\"Variance accuracy:%0.2f (+/- %0.2f)\" %(scores.mean(),scores.std())"
   ]
  },
  {
   "cell_type": "markdown",
   "metadata": {},
   "source": [
    "## forests of randomized tree"
   ]
  },
  {
   "cell_type": "code",
   "execution_count": 91,
   "metadata": {
    "collapsed": false
   },
   "outputs": [
    {
     "data": {
      "text/plain": [
       "array([ 0.10565607,  0.64645602,  0.65586768,  0.38465229])"
      ]
     },
     "execution_count": 91,
     "metadata": {},
     "output_type": "execute_result"
    }
   ],
   "source": [
    "tree = RandomForestRegressor(n_estimators=500)\n",
    "scores = cross_validation.cross_val_score(tree,data,targetData,cv=4);\n",
    "scores"
   ]
  },
  {
   "cell_type": "code",
   "execution_count": 92,
   "metadata": {
    "collapsed": false
   },
   "outputs": [
    {
     "data": {
      "text/plain": [
       "'R**2 accuracy:0.45 (+/- 0.23)'"
      ]
     },
     "execution_count": 92,
     "metadata": {},
     "output_type": "execute_result"
    }
   ],
   "source": [
    "\"R**2 accuracy:%0.2f (+/- %0.2f)\" %(scores.mean(),scores.std())"
   ]
  },
  {
   "cell_type": "code",
   "execution_count": 93,
   "metadata": {
    "collapsed": false
   },
   "outputs": [
    {
     "data": {
      "text/plain": [
       "array([ 241536.22287113,   31645.98191715,   13160.12661786,\n",
       "         30222.03699442])"
      ]
     },
     "execution_count": 93,
     "metadata": {},
     "output_type": "execute_result"
    }
   ],
   "source": [
    "scores = cross_validation.cross_val_score(tree,data,targetData,scoring=VarScore,cv=4);\n",
    "scores"
   ]
  },
  {
   "cell_type": "code",
   "execution_count": 94,
   "metadata": {
    "collapsed": false
   },
   "outputs": [
    {
     "data": {
      "text/plain": [
       "'Variance accuracy:79141.09 (+/- 94040.58)'"
      ]
     },
     "execution_count": 94,
     "metadata": {},
     "output_type": "execute_result"
    }
   ],
   "source": [
    "\"Variance accuracy:%0.2f (+/- %0.2f)\" %(scores.mean(),scores.std())"
   ]
  },
  {
   "cell_type": "markdown",
   "metadata": {},
   "source": [
    "##extremely randomized trees"
   ]
  },
  {
   "cell_type": "code",
   "execution_count": 95,
   "metadata": {
    "collapsed": false
   },
   "outputs": [
    {
     "data": {
      "text/plain": [
       "array([ 0.11025522,  0.60804014,  0.65517982,  0.4768993 ])"
      ]
     },
     "execution_count": 95,
     "metadata": {},
     "output_type": "execute_result"
    }
   ],
   "source": [
    "tree = ExtraTreesRegressor(n_estimators=500)\n",
    "scores = cross_validation.cross_val_score(tree,data,targetData,cv=4);\n",
    "scores"
   ]
  },
  {
   "cell_type": "code",
   "execution_count": 96,
   "metadata": {
    "collapsed": false
   },
   "outputs": [
    {
     "data": {
      "text/plain": [
       "'R**2 accuracy:0.46 (+/- 0.21)'"
      ]
     },
     "execution_count": 96,
     "metadata": {},
     "output_type": "execute_result"
    }
   ],
   "source": [
    "\"R**2 accuracy:%0.2f (+/- %0.2f)\" %(scores.mean(),scores.std())"
   ]
  },
  {
   "cell_type": "code",
   "execution_count": 97,
   "metadata": {
    "collapsed": false
   },
   "outputs": [
    {
     "data": {
      "text/plain": [
       "array([ 240351.99637109,   37086.08763625,   13254.39868946,\n",
       "         27560.39992551])"
      ]
     },
     "execution_count": 97,
     "metadata": {},
     "output_type": "execute_result"
    }
   ],
   "source": [
    "scores = cross_validation.cross_val_score(tree,data,targetData,scoring=VarScore,cv=4);\n",
    "scores"
   ]
  },
  {
   "cell_type": "code",
   "execution_count": 98,
   "metadata": {
    "collapsed": false
   },
   "outputs": [
    {
     "data": {
      "text/plain": [
       "'Variance accuracy:79563.22 (+/- 93218.15)'"
      ]
     },
     "execution_count": 98,
     "metadata": {},
     "output_type": "execute_result"
    }
   ],
   "source": [
    "\"Variance accuracy:%0.2f (+/- %0.2f)\" %(scores.mean(),scores.std())"
   ]
  },
  {
   "cell_type": "markdown",
   "metadata": {},
   "source": [
    "##supported vector regression"
   ]
  },
  {
   "cell_type": "code",
   "execution_count": 99,
   "metadata": {
    "collapsed": false
   },
   "outputs": [
    {
     "data": {
      "text/plain": [
       "array([ 0.05248411,  0.27286523,  0.25357791])"
      ]
     },
     "execution_count": 99,
     "metadata": {},
     "output_type": "execute_result"
    }
   ],
   "source": [
    "svm = SVR()\n",
    "scores = cross_validation.cross_val_score(svm,data,targetData);\n",
    "scores"
   ]
  },
  {
   "cell_type": "code",
   "execution_count": 100,
   "metadata": {
    "collapsed": false
   },
   "outputs": [
    {
     "data": {
      "text/plain": [
       "'R**2 accuracy:0.19 (+/- 0.10)'"
      ]
     },
     "execution_count": 100,
     "metadata": {},
     "output_type": "execute_result"
    }
   ],
   "source": [
    "\"R**2 accuracy:%0.2f (+/- %0.2f)\" %(scores.mean(),scores.std())"
   ]
  },
  {
   "cell_type": "code",
   "execution_count": 101,
   "metadata": {
    "collapsed": false
   },
   "outputs": [
    {
     "data": {
      "text/plain": [
       "array([ 240475.15664861,   36545.88761531,   13077.56598608,\n",
       "         26755.13160821])"
      ]
     },
     "execution_count": 101,
     "metadata": {},
     "output_type": "execute_result"
    }
   ],
   "source": [
    "scores = cross_validation.cross_val_score(tree,data,targetData,scoring=VarScore,cv=4);\n",
    "scores"
   ]
  },
  {
   "cell_type": "code",
   "execution_count": 102,
   "metadata": {
    "collapsed": false
   },
   "outputs": [
    {
     "data": {
      "text/plain": [
       "'Variance accuracy:79213.44 (+/- 93476.85)'"
      ]
     },
     "execution_count": 102,
     "metadata": {},
     "output_type": "execute_result"
    }
   ],
   "source": [
    "\"Variance accuracy:%0.2f (+/- %0.2f)\" %(scores.mean(),scores.std())"
   ]
  },
  {
   "cell_type": "markdown",
   "metadata": {},
   "source": [
    "#结论"
   ]
  },
  {
   "cell_type": "markdown",
   "metadata": {},
   "source": [
    "根据上述计算结果，我们可以看到，从预测值与实际值的差值方差的总和的角度来验证时，各类算法效果差距不大，而从最流行的R方检验方法进行模型选择时，我们的结论是extra trees >= forest > cart > SVR，这里注意由于我们采用了交叉验证来做验证（将数据均分为4，每次取3份train，1份test），我们比较的是每一次验证结果的平均值，而且由于森林算法的随机性，这个结果并不是每次都相同，但R方值基本变动不大，所以我们可以大致得出上述的结论\n",
    "\n",
    "以上只是针对车贷数据进行的模型效果对比，其中并不考虑计算性能的范畴，虽然我们都知道cart的性能肯定会高于随机森林（例子中的forests和extra trees均包含500个tree）"
   ]
  }
 ],
 "metadata": {
  "kernelspec": {
   "display_name": "Python 2",
   "language": "python",
   "name": "python2"
  },
  "language_info": {
   "codemirror_mode": {
    "name": "ipython",
    "version": 2
   },
   "file_extension": ".py",
   "mimetype": "text/x-python",
   "name": "python",
   "nbconvert_exporter": "python",
   "pygments_lexer": "ipython2",
   "version": "2.7.10rc1"
  }
 },
 "nbformat": 4,
 "nbformat_minor": 0
}
